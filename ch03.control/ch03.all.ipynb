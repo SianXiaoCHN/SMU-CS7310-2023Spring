{
 "cells": [
  {
   "cell_type": "markdown",
   "id": "570d3f79",
   "metadata": {
    "slideshow": {
     "slide_type": "slide"
    }
   },
   "source": [
    "# 3. Control Statements and Program Development"
   ]
  },
  {
   "cell_type": "markdown",
   "id": "e75b2a52",
   "metadata": {
    "slideshow": {
     "slide_type": "slide"
    }
   },
   "source": [
    "### Objectives \n",
    "* Decide whether to execute actions with the statements `if`, `if`…`else` and if…elif…else.\n",
    "* Execute statements repeatedly with `while` and `for`.\n",
    "* Shorten assignment expressions with augmented assignments.\n",
    "* Use the `for` statement and the built-in `range` function to repeat actions for a sequence of values.\n",
    "* Perform sentinel-controlled iteration with `while`."
   ]
  },
  {
   "cell_type": "markdown",
   "id": "3a28dbaf",
   "metadata": {
    "slideshow": {
     "slide_type": "slide"
    }
   },
   "source": [
    "### Objectives (cont.)\n",
    "* Learn problem-solving skills: understanding problem requirements, dividing problems into smaller pieces, developing algorithms to solve problems and implementing those algorithms in code. \n",
    "* Develop algorithms through the process of top-down, stepwise refinement. \n",
    "* Create compound conditions with the Boolean operators `and`, `or` and `not`."
   ]
  },
  {
   "cell_type": "markdown",
   "id": "04f347ca",
   "metadata": {
    "slideshow": {
     "slide_type": "slide"
    }
   },
   "source": [
    "### Objectives (cont.)\n",
    "* Stop looping with `break`.\n",
    "* Force the next iteration of a loop with `continue`.\n",
    "* Use some functional-style programming features to write scripts that are more concise, clearer, easier to debug and easier to parallelize."
   ]
  },
  {
   "cell_type": "markdown",
   "id": "46471c39",
   "metadata": {},
   "source": [
    "# 3.5 `if` Statement\n",
    "* Pseudocode: Suppose that a passing grade on an examination is 60. The pseudocode\n",
    "\n",
    "> If student’s grade is greater than or equal to 60  \n",
    "> &nbsp;&nbsp;&nbsp;&nbsp;&nbsp;&nbsp;Display 'Passed'\n",
    "\n",
    "* If the condition is true, 'Passed' is displayed. Then, the next pseudocode statement in order is “performed.”\n",
    "* If the condition is false, nothing is displayed, and the next pseudocode statement is “performed.” \n",
    "* Indentation emphasizes that 'Passed' is displayed only if the condition is true. "
   ]
  },
  {
   "cell_type": "markdown",
   "id": "6fceb2ed",
   "metadata": {},
   "source": [
    "**Corresponding `if` Statement**"
   ]
  },
  {
   "cell_type": "code",
   "execution_count": null,
   "id": "6ed716ae",
   "metadata": {},
   "outputs": [],
   "source": [
    "grade = 85"
   ]
  },
  {
   "cell_type": "code",
   "execution_count": null,
   "id": "b566a46d",
   "metadata": {},
   "outputs": [],
   "source": [
    "if grade >= 60:\n",
    "    print('Passed')"
   ]
  },
  {
   "cell_type": "markdown",
   "id": "9344f7d8",
   "metadata": {},
   "source": [
    "### Suite Indentation\n",
    "* Indenting a suite is required."
   ]
  },
  {
   "cell_type": "code",
   "execution_count": null,
   "id": "e28b9323",
   "metadata": {},
   "outputs": [],
   "source": [
    "if grade >= 60:\n",
    "print('Passed')  # statement is not indented properly"
   ]
  },
  {
   "cell_type": "markdown",
   "id": "91486ae2",
   "metadata": {},
   "source": [
    "* Statements in a suite must have the same indentation."
   ]
  },
  {
   "cell_type": "code",
   "execution_count": null,
   "id": "c953ffa7",
   "metadata": {},
   "outputs": [],
   "source": [
    "if grade >= 60:\n",
    "    print('Passed')\n",
    "  print('Good job!)"
   ]
  },
  {
   "cell_type": "markdown",
   "id": "4ac05d0e",
   "metadata": {},
   "source": [
    "### `if` Statement Flowchart\n",
    "![Flowchart segment showing an if statement](./ch03images/AAHBDOC0.png \"Flowchart segment showing an if statement\")\n",
    "\n",
    "* The decision (diamond) symbol contains a condition that can be either `True` or `False`. \n",
    "* Two flowlines emerging from it: \n",
    "    * One indicates the direction to follow when the condition in the symbol is `True`. \n",
    "    * The other indicates the direction to follow when the condition is `False`. "
   ]
  },
  {
   "cell_type": "markdown",
   "id": "d11a8e3b",
   "metadata": {},
   "source": [
    "### Every Expression Can Be Treated as `True` or `False`"
   ]
  },
  {
   "cell_type": "code",
   "execution_count": null,
   "id": "d6605d33",
   "metadata": {},
   "outputs": [],
   "source": [
    "if 1:\n",
    "    print('Nonzero values are true, so this will print')"
   ]
  },
  {
   "cell_type": "code",
   "execution_count": null,
   "id": "8279a59b",
   "metadata": {},
   "outputs": [],
   "source": [
    "if 0:\n",
    "    print('Zero is false, so this will not print')"
   ]
  },
  {
   "cell_type": "markdown",
   "id": "02661eb3",
   "metadata": {},
   "source": [
    "### An Additional Note on Confusing `==` and `=` \n",
    "* Using `==` instead of `=` in an assignment statement can lead to subtle problems. \n",
    "* Writing `grade == 85` when we intend to define a variable with `grade = 85` would cause a `NameError`.\n",
    "* Logic error: If `grade` had been defined **before** the preceding statement, then `grade == 85` would evaluate to `True` or `False`, depending on `grade`’s value, and not perform the intended assignment. "
   ]
  },
  {
   "cell_type": "markdown",
   "id": "99965041",
   "metadata": {},
   "source": [
    "# 3.6 `if`…`else` and `if`…`elif`…`else` Statements\n",
    "* Performs different suites, based on whether a condition is `True` or `False`.\n",
    "* Pseudocode:\n",
    "\n",
    "> _If student’s grade is greater than or equal to 60  \n",
    "> &nbsp;&nbsp;&nbsp;&nbsp;&nbsp;&nbsp;Display 'Passed'  \n",
    "> Else  \n",
    "> &nbsp;&nbsp;&nbsp;&nbsp;&nbsp;&nbsp;Display 'Failed'_\n",
    "\n",
    "* Correspondong Python code with variable `grade` initalized to `85`"
   ]
  },
  {
   "cell_type": "code",
   "execution_count": null,
   "id": "07326e9b",
   "metadata": {},
   "outputs": [],
   "source": [
    "grade = 85"
   ]
  },
  {
   "cell_type": "code",
   "execution_count": null,
   "id": "17e26adc",
   "metadata": {},
   "outputs": [],
   "source": [
    "if grade >= 60: \n",
    "    print('Passed')\n",
    "else:\n",
    "    print('Failed')"
   ]
  },
  {
   "cell_type": "markdown",
   "id": "16905f46",
   "metadata": {},
   "source": [
    "* Assign `57` to `grade`, then shows the `if`…`else` statement again to demonstrate that only the `else` suite executes"
   ]
  },
  {
   "cell_type": "markdown",
   "id": "92e3f192",
   "metadata": {},
   "source": [
    "### `if`…`elif`…`else` Statement\n",
    "* Can test for many cases.\n",
    "* Only the action for the first `True` condition executes."
   ]
  },
  {
   "cell_type": "code",
   "execution_count": null,
   "id": "3925709e",
   "metadata": {},
   "outputs": [],
   "source": [
    "grade = 77"
   ]
  },
  {
   "cell_type": "code",
   "execution_count": null,
   "id": "d416513a",
   "metadata": {},
   "outputs": [],
   "source": [
    "if grade >= 90:\n",
    "    print('A')\n",
    "elif grade >= 80:\n",
    "    print('B')\n",
    "elif grade >= 70:\n",
    "    print('C')\n",
    "elif grade >= 60:\n",
    "    print('D')\n",
    "else:\n",
    "    print('F')"
   ]
  },
  {
   "cell_type": "markdown",
   "id": "75f6f92a",
   "metadata": {},
   "source": [
    "### `if`…`elif`…`else` Statement Flowchart\n",
    "![Flowchart of the if…`elif`…else statement’s flow of control.](./ch03images/AAHBDOH0.png \"Flowchart of the if…`elif`…else statement’s flow of control\")"
   ]
  },
  {
   "cell_type": "markdown",
   "id": "93b71bc5",
   "metadata": {},
   "source": [
    "### `else` Is Optional\n",
    "* Handle values that do not satisfy any of the conditions. \n",
    "* Without an `else`, if no conditions are `True`, the program does not execute any of the statement’s suites. "
   ]
  },
  {
   "cell_type": "markdown",
   "id": "d8aa9c71",
   "metadata": {},
   "source": [
    "# Ternary Operator for if.. then\n",
    "## Here is a Pythonic way to write a simple if then in one line"
   ]
  },
  {
   "cell_type": "code",
   "execution_count": 1,
   "id": "859a18e2",
   "metadata": {},
   "outputs": [
    {
     "name": "stdout",
     "output_type": "stream",
     "text": [
      "10\n"
     ]
    }
   ],
   "source": [
    "# if then\n",
    "a = 10\n",
    "b = 20\n",
    "\n",
    "if a < b:\n",
    "  min = a\n",
    "else:\n",
    "  min = b\n",
    "print (min)"
   ]
  },
  {
   "cell_type": "code",
   "execution_count": 2,
   "id": "a1170ddd",
   "metadata": {},
   "outputs": [
    {
     "name": "stdout",
     "output_type": "stream",
     "text": [
      "10\n"
     ]
    }
   ],
   "source": [
    "# One liner version\n",
    "min = a if a < b else b\n",
    "print (min)\n"
   ]
  },
  {
   "cell_type": "markdown",
   "id": "ac4e75c6",
   "metadata": {},
   "source": [
    "# 3.7 `while` Statement\n",
    "* Repeats one or more actions while a condition remains `True`. "
   ]
  },
  {
   "cell_type": "code",
   "execution_count": null,
   "id": "e509f978",
   "metadata": {},
   "outputs": [],
   "source": [
    "product = 3"
   ]
  },
  {
   "cell_type": "code",
   "execution_count": null,
   "id": "d1759eeb",
   "metadata": {},
   "outputs": [],
   "source": [
    "while product <= 50:\n",
    "    product = product * 3    "
   ]
  },
  {
   "cell_type": "code",
   "execution_count": null,
   "id": "365271e0",
   "metadata": {},
   "outputs": [],
   "source": [
    "product"
   ]
  },
  {
   "cell_type": "markdown",
   "id": "a9e045c6",
   "metadata": {},
   "source": [
    "* To prevent an infinite loop, something in the `while` suite must change `product`’s value, so the condition eventually becomes `False`. "
   ]
  },
  {
   "cell_type": "markdown",
   "id": "0279e010",
   "metadata": {},
   "source": [
    "### `while` Statement Flowchart\n",
    "![Flowchart of the while statement’s flow of control.](./ch03images/AAHBDOE0.png \"Flowchart of the while statement’s flow of control\")"
   ]
  },
  {
   "cell_type": "markdown",
   "id": "8dcc76dd",
   "metadata": {},
   "source": [
    "# 3.8 `for` Statement\n",
    "* Repeat an action or several actions for each item in a sequence of items.\n",
    "* A string is a sequence of individual characters."
   ]
  },
  {
   "cell_type": "code",
   "execution_count": null,
   "id": "26bb39ed",
   "metadata": {},
   "outputs": [],
   "source": [
    "for character in 'Programming':\n",
    "    print(character, end='  ')"
   ]
  },
  {
   "cell_type": "markdown",
   "id": "81ac2f26",
   "metadata": {},
   "source": [
    "* Upon entering the `for` loop, Python assigns the 'P' in 'Programming' to the **target variable** between keywords `for` and `in`.\n",
    "* After executing the suite, Python assigns to character the next item in the sequence (that is, the '`r`' in '`Programming`'), then executes the suite again. \n",
    "* Continues while there are more items in the sequence.\n",
    "* Using the target variable in the suite is common but not required. "
   ]
  },
  {
   "cell_type": "markdown",
   "id": "53a067c1",
   "metadata": {},
   "source": [
    "### `for` Statement Flowchart\n",
    "![Flowchart of the for statement’s flow of control.](./ch03images/AAHBDOF0.png \"Flowchart of the for statement’s flow of control\")"
   ]
  },
  {
   "cell_type": "markdown",
   "id": "c91a8b85",
   "metadata": {},
   "source": [
    "### Function `print`’s `end` Keyword Argument \n",
    "* `print` displays its argument(s), then moves the cursor to the next line. \n",
    "* Can change this behavior with the argument `end`:\n",
    ">```python\n",
    "print(character, end='  ') \n",
    "```\n",
    "* `end` is a **keyword argument**, but it's not a Python keyword. \n",
    "* The _Style Guide for Python Code_ recommends placing no spaces around a keyword argument’s =. \n",
    "* Keyword arguments are sometimes called named arguments."
   ]
  },
  {
   "cell_type": "markdown",
   "id": "d4375c82",
   "metadata": {},
   "source": [
    "### Function `print`’s `sep` Keyword Argument \n",
    "* Keyword argument `sep` (short for separator) specifies the string that appears between the items that print displays. \n",
    "* A space character by default. \n",
    "* To remove the spaces, use an empty string with no characters between its quotes."
   ]
  },
  {
   "cell_type": "code",
   "execution_count": null,
   "id": "cf6585eb",
   "metadata": {},
   "outputs": [],
   "source": [
    "print(10, 20, 30, sep=', ')"
   ]
  },
  {
   "cell_type": "markdown",
   "id": "999af11b",
   "metadata": {},
   "source": [
    "## 3.8.1 Iterables, Lists and Iterators\n",
    "* The sequence to the right of the `for` statement’s in keyword must be an iterable. \n",
    "    * An object from which the `for` statement can take one item at a time. \n",
    "* One of the most common iterables is a list, which is a comma-separated collection of items enclosed in square brackets (`[` and `]`). "
   ]
  },
  {
   "cell_type": "code",
   "execution_count": null,
   "id": "eaaee25f",
   "metadata": {},
   "outputs": [],
   "source": [
    "total = 0"
   ]
  },
  {
   "cell_type": "code",
   "execution_count": null,
   "id": "89870ec9",
   "metadata": {},
   "outputs": [],
   "source": [
    "for number in [2, -3, 0, 17, 9]:\n",
    "    total = total + number"
   ]
  },
  {
   "cell_type": "code",
   "execution_count": null,
   "id": "5cd40fab",
   "metadata": {},
   "outputs": [],
   "source": [
    "total"
   ]
  },
  {
   "cell_type": "markdown",
   "id": "17e0e3c1",
   "metadata": {},
   "source": [
    "* Each sequence has an iterator. \n",
    "* The for statement uses the iterator “behind the scenes” to get each consecutive item until there are no more to process. "
   ]
  },
  {
   "cell_type": "markdown",
   "id": "a4b00d3b",
   "metadata": {},
   "source": [
    "## 3.8.2 Built-In `range` Function and Generators\n",
    "* Creates an iterable object that represents a sequence of consecutive integer values starting from 0 and continuing up to, but not including, the argument value."
   ]
  },
  {
   "cell_type": "code",
   "execution_count": null,
   "id": "d76331ae",
   "metadata": {},
   "outputs": [],
   "source": [
    "for counter in range(10):\n",
    "    print(counter, end=' ')"
   ]
  },
  {
   "cell_type": "markdown",
   "id": "ebb7846a",
   "metadata": {},
   "source": [
    "### Off-By-One Errors\n",
    "A logic error known as an off-by-one error occurs when you assume that `range`’s argument value is included in the generated sequence. \n"
   ]
  },
  {
   "cell_type": "markdown",
   "id": "46075b31",
   "metadata": {},
   "source": [
    "# 3.9 Augmented Assignments \n",
    "* Abbreviate assignment expressions in which the same variable name appears on the left and right of the `=`."
   ]
  },
  {
   "cell_type": "code",
   "execution_count": null,
   "id": "5a78b67f",
   "metadata": {},
   "outputs": [],
   "source": [
    "total = 0"
   ]
  },
  {
   "cell_type": "code",
   "execution_count": null,
   "id": "e218abb5",
   "metadata": {},
   "outputs": [],
   "source": [
    "for number in [1, 2, 3, 4, 5]:\n",
    "    total += number  # add number to total and store in number"
   ]
  },
  {
   "cell_type": "code",
   "execution_count": null,
   "id": "b39f6abf",
   "metadata": {},
   "outputs": [],
   "source": [
    "total"
   ]
  },
  {
   "cell_type": "markdown",
   "id": "2e25391e",
   "metadata": {},
   "source": [
    "* In the following table assume: `c = 3`, `d = 5`, `e = 4`, `f = 2`, `g = 9`, `h = 12`\n",
    "\n",
    "| Augmented assignment | Sample expression| Explanation| Assigns\n",
    "| :----- | :----- | :----- | :-----\n",
    "| `+=` | `c += 7` | `c = c + 7` | `10 to c`\n",
    "| `-=` | `d -= 4` | `d = d - 4` | `1 to d`\n",
    "| `*=` | `e *= 5`  | `e = e * 5` | `20 to e`\n",
    "| `**=` | `f **= 3` | `f = f ** 3` | `8 to f`\n",
    "| `/=` | `g /= 2` | `g = g / 2` | `4.5 to g`\n",
    "| `//=` | `g //= 2` | `g = g // 2` | `4 to g`\n",
    "| `%=` | `h %= 9` | `h = h % 9` | `3 to h`"
   ]
  },
  {
   "cell_type": "markdown",
   "id": "e445045d",
   "metadata": {},
   "source": [
    "## 3.10.4 Introduction to Formatted Strings\n",
    "* An **f-string** (short for formatted string) allows inserting values into a string.\n",
    "* The letter f before the string’s opening quote indicates it’s an f-string. \n",
    "* You specify where to insert values by using placeholders delimited by curly braces ({ and }). \n",
    "* `{average}` converts the variable average’s value to a string representation, then replaces `{average}` with that *&replacement text**. \n",
    "* Replacement-text expressions may contain values, variables or other expressions."
   ]
  },
  {
   "cell_type": "code",
   "execution_count": null,
   "id": "af8ce360",
   "metadata": {},
   "outputs": [],
   "source": [
    "x = 22.5\n",
    "name = \"rondo\"\n",
    "print (f\"the student {name} scored {x}\")\n",
    "       "
   ]
  },
  {
   "cell_type": "code",
   "execution_count": null,
   "id": "c18521fa",
   "metadata": {},
   "outputs": [],
   "source": []
  },
  {
   "cell_type": "markdown",
   "id": "83c5f368",
   "metadata": {},
   "source": [
    "# 3.13 Built-In Function `range`: A Deeper Look\n",
    "* Function `range`’s two-argument version produces a sequence of consecutive integers from its first argument’s value up to, but not including, the second argument’s value"
   ]
  },
  {
   "cell_type": "code",
   "execution_count": null,
   "id": "6c4e4ea2",
   "metadata": {},
   "outputs": [],
   "source": [
    "for number in range(5, 10):\n",
    "    print(number, end=' ')"
   ]
  },
  {
   "cell_type": "markdown",
   "id": "74683eaf",
   "metadata": {},
   "source": [
    "* Function `range`’s three-argument version produces a sequence of integers from its first argument’s value up to, but not including, the second argument’s value, incrementing by the third argument’s value (the step)"
   ]
  },
  {
   "cell_type": "code",
   "execution_count": null,
   "id": "7390dfaf",
   "metadata": {},
   "outputs": [],
   "source": [
    "for number in range(0, 10, 2):\n",
    "    print(number, end=' ')"
   ]
  },
  {
   "cell_type": "markdown",
   "id": "c28e733a",
   "metadata": {},
   "source": [
    "* If the third argument is negative, the sequence progresses from the first argument’s value down to, but not including the second argument’s value, decrementing by the third argument’s value"
   ]
  },
  {
   "cell_type": "code",
   "execution_count": null,
   "id": "6dbeb986",
   "metadata": {},
   "outputs": [],
   "source": [
    "for number in range(10, 0, -2):\n",
    "    print(number, end=' ')"
   ]
  },
  {
   "cell_type": "markdown",
   "id": "7f5b83e6",
   "metadata": {},
   "source": [
    "# 3.14 Using Type Decimal for Monetary Amounts\n",
    "* Python’s built-in floating-point numbers work well for most applications. \n",
    "* Floating-point values are stored in binary format. \n",
    "* Some floating-point values are represented only approximately when they’re converted to binary. "
   ]
  },
  {
   "cell_type": "code",
   "execution_count": 1,
   "id": "42491d60",
   "metadata": {},
   "outputs": [],
   "source": [
    "amount = 112.31"
   ]
  },
  {
   "cell_type": "code",
   "execution_count": 2,
   "id": "c6382076",
   "metadata": {},
   "outputs": [
    {
     "name": "stdout",
     "output_type": "stream",
     "text": [
      "112.31\n"
     ]
    }
   ],
   "source": [
    "print(amount)"
   ]
  },
  {
   "cell_type": "markdown",
   "id": "8e7ba9e0",
   "metadata": {},
   "source": [
    "* Print `amount` with 20 digits of precision to the right of the decimal point to see that the actual floating-point value in memory is not exactly `112.31`—it’s only an approximation:"
   ]
  },
  {
   "cell_type": "code",
   "execution_count": 3,
   "id": "adcc44f1",
   "metadata": {},
   "outputs": [
    {
     "name": "stdout",
     "output_type": "stream",
     "text": [
      "112.31000000000000227374\n"
     ]
    }
   ],
   "source": [
    "print(f'{amount:.20f}')"
   ]
  },
  {
   "cell_type": "markdown",
   "id": "cf07a7b6",
   "metadata": {},
   "source": [
    "* The **Python Standard Library** provides many predefined capabilities you can use in your Python code to avoid “reinventing the wheel.” \n",
    "* Type **`Decimal`**, which uses a special coding scheme to solve the problem of to-the-penny precision. \n",
    "    * Banks also have to deal with issues like using a _fair rounding algorithm_ when calculating daily interest on accounts&mdash;type `Decimal` offers such capabilities.\n"
   ]
  },
  {
   "cell_type": "markdown",
   "id": "79f5cc4f",
   "metadata": {},
   "source": [
    "### Importing Type Decimal from the decimal Module \n",
    "* The Python Standard Library is divided into groups of related capabilities called **modules**. \n",
    "* The **`decimal`** module defines type `Decimal` and its capabilities. \n",
    "* Must **`import`** to use capabilities from a module."
   ]
  },
  {
   "cell_type": "code",
   "execution_count": 4,
   "id": "472c2ac9",
   "metadata": {},
   "outputs": [],
   "source": [
    "from decimal import Decimal"
   ]
  },
  {
   "cell_type": "markdown",
   "id": "9513f839",
   "metadata": {},
   "source": [
    "### Creating Decimals"
   ]
  },
  {
   "cell_type": "markdown",
   "id": "8ff9d2c3",
   "metadata": {},
   "source": [
    "* Typically create a `Decimal` from a string."
   ]
  },
  {
   "cell_type": "code",
   "execution_count": 5,
   "id": "475f770c",
   "metadata": {},
   "outputs": [],
   "source": [
    "principal = Decimal('1000.00')"
   ]
  },
  {
   "cell_type": "code",
   "execution_count": 6,
   "id": "5025a933",
   "metadata": {},
   "outputs": [
    {
     "data": {
      "text/plain": [
       "Decimal('1000.00')"
      ]
     },
     "execution_count": 6,
     "metadata": {},
     "output_type": "execute_result"
    }
   ],
   "source": [
    "principal"
   ]
  },
  {
   "cell_type": "code",
   "execution_count": 7,
   "id": "b2ffca65",
   "metadata": {},
   "outputs": [],
   "source": [
    "rate = Decimal('0.05')"
   ]
  },
  {
   "cell_type": "code",
   "execution_count": 8,
   "id": "1d67babc",
   "metadata": {},
   "outputs": [
    {
     "data": {
      "text/plain": [
       "Decimal('0.05')"
      ]
     },
     "execution_count": 8,
     "metadata": {},
     "output_type": "execute_result"
    }
   ],
   "source": [
    "rate"
   ]
  },
  {
   "cell_type": "markdown",
   "id": "fc04e8a3",
   "metadata": {},
   "source": [
    "### Decimal Arithmetic \n",
    "* `Decimal`s support the standard arithmetic operators and augmented assignments."
   ]
  },
  {
   "cell_type": "code",
   "execution_count": 9,
   "id": "c721e7ae",
   "metadata": {},
   "outputs": [],
   "source": [
    "x = Decimal('10.5')"
   ]
  },
  {
   "cell_type": "code",
   "execution_count": 10,
   "id": "3675adeb",
   "metadata": {},
   "outputs": [],
   "source": [
    "y = Decimal('2')"
   ]
  },
  {
   "cell_type": "code",
   "execution_count": 11,
   "id": "024fb626",
   "metadata": {},
   "outputs": [
    {
     "data": {
      "text/plain": [
       "Decimal('12.5')"
      ]
     },
     "execution_count": 11,
     "metadata": {},
     "output_type": "execute_result"
    }
   ],
   "source": [
    "x + y"
   ]
  },
  {
   "cell_type": "code",
   "execution_count": 12,
   "id": "01107ea2",
   "metadata": {},
   "outputs": [
    {
     "data": {
      "text/plain": [
       "Decimal('5')"
      ]
     },
     "execution_count": 12,
     "metadata": {},
     "output_type": "execute_result"
    }
   ],
   "source": [
    "x // y"
   ]
  },
  {
   "cell_type": "code",
   "execution_count": 13,
   "id": "a43badf9",
   "metadata": {},
   "outputs": [],
   "source": [
    "x += y"
   ]
  },
  {
   "cell_type": "code",
   "execution_count": 14,
   "id": "578a03cd",
   "metadata": {},
   "outputs": [
    {
     "data": {
      "text/plain": [
       "Decimal('12.5')"
      ]
     },
     "execution_count": 14,
     "metadata": {},
     "output_type": "execute_result"
    }
   ],
   "source": [
    "x"
   ]
  },
  {
   "cell_type": "markdown",
   "id": "f2b5595f",
   "metadata": {},
   "source": [
    "* May perform arithmetic between `Decimal`s and integers, but _not_ between `Decimal`s and floating-point numbers."
   ]
  },
  {
   "cell_type": "markdown",
   "id": "28a06882",
   "metadata": {},
   "source": [
    "# 3.15 `break` and `continue` Statements"
   ]
  },
  {
   "cell_type": "markdown",
   "id": "069b149d",
   "metadata": {},
   "source": [
    "* Executing a `break` statement in a `while` or `for` immediately exits that statement. "
   ]
  },
  {
   "cell_type": "code",
   "execution_count": null,
   "id": "56d5d744",
   "metadata": {},
   "outputs": [],
   "source": [
    "for number in range(100):\n",
    "    if number == 10:\n",
    "        break\n",
    "    print(number, end=' ')"
   ]
  },
  {
   "cell_type": "markdown",
   "id": "7d78db44",
   "metadata": {},
   "source": [
    "* Executing a `continue` statement in a `while` or `for` loop skips the remainder of the loop’s suite. \n",
    "    * In a `while`, the condition is then tested to determine whether the loop should continue executing. \n",
    "    * In a `for`, the loop processes the next item in the sequence (if any)"
   ]
  },
  {
   "cell_type": "code",
   "execution_count": null,
   "id": "0b33d1c1",
   "metadata": {},
   "outputs": [],
   "source": [
    "for number in range(10):\n",
    "    if number == 5:\n",
    "        continue\n",
    "    print(number, end=' ')"
   ]
  },
  {
   "cell_type": "markdown",
   "id": "05c91c49",
   "metadata": {},
   "source": [
    "# 3.16 Boolean Operators `and`, `or` and `not` "
   ]
  },
  {
   "cell_type": "markdown",
   "id": "05501388",
   "metadata": {},
   "source": [
    "### Boolean Operator `and`\n",
    "* Ensure that two conditions are both `True` with the **Boolean `and` operator**. "
   ]
  },
  {
   "cell_type": "code",
   "execution_count": null,
   "id": "7dc60f52",
   "metadata": {},
   "outputs": [],
   "source": [
    "gender = 'Female'"
   ]
  },
  {
   "cell_type": "code",
   "execution_count": null,
   "id": "cbf68eee",
   "metadata": {},
   "outputs": [],
   "source": [
    "age = 70"
   ]
  },
  {
   "cell_type": "code",
   "execution_count": null,
   "id": "1f406b0c",
   "metadata": {},
   "outputs": [],
   "source": [
    "if gender == 'Female' and age >= 65:\n",
    "    print('Senior female')"
   ]
  },
  {
   "cell_type": "markdown",
   "id": "922ee75a",
   "metadata": {},
   "source": [
    "* _Truth table_ for the `and` operator:\n",
    "\n",
    "expression1 | expression2 | expression1 `and` expression2\n",
    ":-------- | :-------- | :--------\n",
    "`False` \t| `False` \t| `False` \n",
    "`False` \t| `True`  \t| `False` \n",
    "`True`  \t| `False` \t| `False` \n",
    "`True`  \t| `True`  \t| `True`  "
   ]
  },
  {
   "cell_type": "markdown",
   "id": "63c3a9fb",
   "metadata": {},
   "source": [
    "### Boolean Operator `or`\n",
    "* Ensure that one _or_ both of two conditions are `True` with the **Boolean `or` operator**."
   ]
  },
  {
   "cell_type": "code",
   "execution_count": null,
   "id": "499cb751",
   "metadata": {},
   "outputs": [],
   "source": [
    "semester_average = 83"
   ]
  },
  {
   "cell_type": "code",
   "execution_count": null,
   "id": "a66843f5",
   "metadata": {},
   "outputs": [],
   "source": [
    "final_exam = 95"
   ]
  },
  {
   "cell_type": "code",
   "execution_count": null,
   "id": "c1a81a4a",
   "metadata": {},
   "outputs": [],
   "source": [
    "if semester_average >= 90 or final_exam >= 90:\n",
    "    print('Student gets an A')"
   ]
  },
  {
   "cell_type": "markdown",
   "id": "df13a8e9",
   "metadata": {},
   "source": [
    "* _Truth table_ for the `or` operator:\n",
    "\n",
    "expression1 | expression2 | expression1 or expression2\n",
    ":-------- | :-------- | :--------\n",
    "`False` \t| `False` \t| `False` \n",
    "`False` \t| `True` \t| `True` \n",
    "`True` \t| `False` \t| `True` \n",
    "`True` \t| `True` \t| `True` "
   ]
  },
  {
   "cell_type": "markdown",
   "id": "b0e2e366",
   "metadata": {},
   "source": [
    "### Improving Performance with Short-Circuit Evaluation\n",
    "* Python stops evaluating an `and` expression as soon as it knows whether the entire condition is `False`. \n",
    "* Python stops evaluating an `or` expression as soon as it knows whether the entire condition is `True`. \n",
    "* In expressions that use `and`, make the condition that’s more likely to be `False` the leftmost condition. \n",
    "* In `or` operator expressions, make the condition that’s more likely to be `True` the leftmost condition. \n"
   ]
  },
  {
   "cell_type": "markdown",
   "id": "1e4e1c08",
   "metadata": {},
   "source": [
    "### Boolean Operator `not` \n",
    "* “Reverse” the meaning of a condition.\n",
    "* **Unary operator**—it has only _one_ operand. "
   ]
  },
  {
   "cell_type": "code",
   "execution_count": null,
   "id": "b7a06ea6",
   "metadata": {},
   "outputs": [],
   "source": [
    "grade = 87"
   ]
  },
  {
   "cell_type": "code",
   "execution_count": null,
   "id": "c1127234",
   "metadata": {},
   "outputs": [],
   "source": [
    "if not grade == -1:\n",
    "    print('The next grade is', grade)"
   ]
  },
  {
   "cell_type": "code",
   "execution_count": null,
   "id": "11efd5ef",
   "metadata": {},
   "outputs": [],
   "source": [
    "if grade != -1:\n",
    "    print('The next grade is', grade)"
   ]
  },
  {
   "cell_type": "markdown",
   "id": "f4fbdb9d",
   "metadata": {},
   "source": [
    "* Truth table for the `not` operator. \n",
    "\n",
    "expression | not expression\n",
    ":-------- | :---------\n",
    "`False` \t| `True` \n",
    "`True` \t| `False` "
   ]
  },
  {
   "cell_type": "markdown",
   "id": "c93a1e37",
   "metadata": {},
   "source": [
    "* Precedence and grouping of the operators introduced so far&mdash;shown in decreasing order of precedence. \n",
    "\n",
    "| Operators  | Grouping\n",
    "| :--------- | : ---------\n",
    "| `()` | left to right\n",
    "| `**` | right to left\n",
    "| `*` &nbsp;&nbsp;&nbsp; `/` &nbsp;&nbsp;&nbsp; `//` &nbsp;&nbsp;&nbsp;% | left to right\n",
    "| `+` &nbsp;&nbsp;&nbsp; `-` | left to right\n",
    "| `<` &nbsp;&nbsp;&nbsp; `<=` &nbsp;&nbsp;&nbsp; `>` &nbsp;&nbsp;&nbsp; `>=` &nbsp;&nbsp;&nbsp; `==` &nbsp;&nbsp;&nbsp; `!=` | left to right\n",
    "| `not` | left to  right\n",
    "| `and` | left to right\n",
    "| `or` | left to right"
   ]
  },
  {
   "cell_type": "markdown",
   "id": "eba44ff6",
   "metadata": {},
   "source": [
    "# 3.17 Intro to Data Science: Measures of Central Tendency—Mean, Median and Mode \n",
    "* **Measures of central tendency**:\n",
    "    * **mean**—the _average value_ in a set of values. \n",
    "    * **median**—the _middle value_ when all the values are arranged in sorted order.\n",
    "    * **mode**—the _most frequently occurring value_.\n",
    "* Each represents a “central” value in a set of values.\n",
    "    * A value which is in some sense typical of the others."
   ]
  },
  {
   "cell_type": "code",
   "execution_count": null,
   "id": "e954417f",
   "metadata": {},
   "outputs": [],
   "source": [
    "grades = [85, 93, 45, 89, 85]"
   ]
  },
  {
   "cell_type": "code",
   "execution_count": null,
   "id": "1b8d296e",
   "metadata": {},
   "outputs": [],
   "source": [
    "sum(grades) / len(grades)"
   ]
  },
  {
   "cell_type": "markdown",
   "id": "39ce8132",
   "metadata": {},
   "source": [
    "* `sum` and `len` are both examples of functional-style programming reductions\n",
    "* The Python Standard Library’s **`statistics`** module provides functions for calculating the **reductions** mean, median and mode."
   ]
  },
  {
   "cell_type": "code",
   "execution_count": null,
   "id": "50e546d9",
   "metadata": {},
   "outputs": [],
   "source": [
    "import statistics"
   ]
  },
  {
   "cell_type": "code",
   "execution_count": null,
   "id": "bad7b1a4",
   "metadata": {},
   "outputs": [],
   "source": [
    "statistics.mean(grades)"
   ]
  },
  {
   "cell_type": "code",
   "execution_count": null,
   "id": "7776d563",
   "metadata": {},
   "outputs": [],
   "source": [
    "statistics.median(grades)"
   ]
  },
  {
   "cell_type": "code",
   "execution_count": null,
   "id": "d46d8e53",
   "metadata": {},
   "outputs": [],
   "source": [
    "statistics.mode(grades)"
   ]
  },
  {
   "cell_type": "markdown",
   "id": "41167979",
   "metadata": {},
   "source": [
    "* Sorting `grades` helps you see the median and mode. "
   ]
  },
  {
   "cell_type": "code",
   "execution_count": null,
   "id": "2d64c346",
   "metadata": {},
   "outputs": [],
   "source": [
    "sorted(grades)"
   ]
  },
  {
   "cell_type": "code",
   "execution_count": null,
   "id": "019ab6c0",
   "metadata": {},
   "outputs": [],
   "source": []
  }
 ],
 "metadata": {
  "celltoolbar": "Slideshow",
  "kernelspec": {
   "display_name": "Python 3",
   "language": "python",
   "name": "python3"
  },
  "language_info": {
   "codemirror_mode": {
    "name": "ipython",
    "version": 3
   },
   "file_extension": ".py",
   "mimetype": "text/x-python",
   "name": "python",
   "nbconvert_exporter": "python",
   "pygments_lexer": "ipython3",
   "version": "3.8.3"
  }
 },
 "nbformat": 4,
 "nbformat_minor": 5
}
